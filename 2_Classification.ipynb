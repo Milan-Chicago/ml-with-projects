{
  "nbformat": 4,
  "nbformat_minor": 0,
  "metadata": {
    "colab": {
      "name": "2 - Classification.ipynb",
      "provenance": [],
      "authorship_tag": "ABX9TyMVrx8/jK3RoGCQWuPYRdHi",
      "include_colab_link": true
    },
    "kernelspec": {
      "name": "python3",
      "display_name": "Python 3"
    }
  },
  "cells": [
    {
      "cell_type": "markdown",
      "metadata": {
        "id": "view-in-github",
        "colab_type": "text"
      },
      "source": [
        "<a href=\"https://colab.research.google.com/github/fillerInk/ml-with-projects/blob/main/2_Classification.ipynb\" target=\"_parent\"><img src=\"https://colab.research.google.com/assets/colab-badge.svg\" alt=\"Open In Colab\"/></a>"
      ]
    },
    {
      "cell_type": "code",
      "metadata": {
        "id": "jO3J4ebz__z4"
      },
      "source": [
        "import numpy as np\n",
        "import matplotlib\n",
        "import matplotlib.pyplot as plt\n",
        "\n",
        "from sklearn.datasets import fetch_openml"
      ],
      "execution_count": 2,
      "outputs": []
    },
    {
      "cell_type": "code",
      "metadata": {
        "id": "KBzikWwjDYO1"
      },
      "source": [
        "mnist = fetch_openml('mnist_784')\n",
        "x,y = mnist[\"data\"],mnist[\"target\"]"
      ],
      "execution_count": 3,
      "outputs": []
    },
    {
      "cell_type": "code",
      "metadata": {
        "colab": {
          "base_uri": "https://localhost:8080/",
          "height": 248
        },
        "id": "DsqeB2gCDbMn",
        "outputId": "2977a796-b692-4d59-90b6-dd940d8d7504"
      },
      "source": [
        "some_digit = x[12]\n",
        "some_digit_image = some_digit.reshape(28,28)\n",
        "\n",
        "plt.imshow(some_digit_image)\n",
        "plt.axis(\"off\")\n",
        "plt.show()"
      ],
      "execution_count": 4,
      "outputs": [
        {
          "output_type": "display_data",
          "data": {
            "image/png": "[encoded data removed]",
            "text/plain": [
              "<Figure size 432x288 with 1 Axes>"
            ]
          },
          "metadata": {
            "tags": [],
            "needs_background": "light"
          }
        }
      ]
    },
    {
      "cell_type": "code",
      "metadata": {
        "id": "A4aoBwS_DieS"
      },
      "source": [
        "from sklearn.linear_model import SGDClassifier"
      ],
      "execution_count": 5,
      "outputs": []
    },
    {
      "cell_type": "code",
      "metadata": {
        "id": "UKyRU6lDDi8y"
      },
      "source": [
        "x_train, x_test, y_train, y_test = x[:60000],x[60000:],y[:60000],y[60000:]\n",
        "shuffle_index = np.random.permutation(60000)\n",
        "x_train,y_train = x_train[shuffle_index],y_train[shuffle_index]"
      ],
      "execution_count": 6,
      "outputs": []
    },
    {
      "cell_type": "code",
      "metadata": {
        "id": "-cObjHnjEEI8"
      },
      "source": [
        "model = SGDClassifier(max_iter=5, tol=-np.infty, random_state=42)"
      ],
      "execution_count": 7,
      "outputs": []
    },
    {
      "cell_type": "code",
      "metadata": {
        "colab": {
          "base_uri": "https://localhost:8080/"
        },
        "id": "N8DPQYOiEHwB",
        "outputId": "7a63ca46-9347-4759-8362-e0545cc93044"
      },
      "source": [
        "model.fit(x_train,y_train)"
      ],
      "execution_count": 19,
      "outputs": [
        {
          "output_type": "execute_result",
          "data": {
            "text/plain": [
              "SGDClassifier(alpha=0.0001, average=False, class_weight=None,\n",
              "              early_stopping=False, epsilon=0.1, eta0=0.0, fit_intercept=True,\n",
              "              l1_ratio=0.15, learning_rate='optimal', loss='hinge', max_iter=5,\n",
              "              n_iter_no_change=5, n_jobs=None, penalty='l2', power_t=0.5,\n",
              "              random_state=42, shuffle=True, tol=-inf, validation_fraction=0.1,\n",
              "              verbose=0, warm_start=False)"
            ]
          },
          "metadata": {
            "tags": []
          },
          "execution_count": 19
        }
      ]
    },
    {
      "cell_type": "code",
      "metadata": {
        "colab": {
          "base_uri": "https://localhost:8080/"
        },
        "id": "-MLrqXbIEKIQ",
        "outputId": "e85ddeb5-6af1-42a8-e334-44277fed08d4"
      },
      "source": [
        "model.score(x_test,y_test)"
      ],
      "execution_count": 20,
      "outputs": [
        {
          "output_type": "execute_result",
          "data": {
            "text/plain": [
              "0.8749"
            ]
          },
          "metadata": {
            "tags": []
          },
          "execution_count": 20
        }
      ]
    },
    {
      "cell_type": "code",
      "metadata": {
        "colab": {
          "base_uri": "https://localhost:8080/"
        },
        "id": "kFUstQlhEO4j",
        "outputId": "748ee420-50ad-4ca6-c7c9-8558a1e12c7b"
      },
      "source": [
        "model.predict(x_test[:10])"
      ],
      "execution_count": 21,
      "outputs": [
        {
          "output_type": "execute_result",
          "data": {
            "text/plain": [
              "array(['7', '2', '1', '0', '4', '1', '4', '9', '4', '9'], dtype='<U1')"
            ]
          },
          "metadata": {
            "tags": []
          },
          "execution_count": 21
        }
      ]
    },
    {
      "cell_type": "code",
      "metadata": {
        "colab": {
          "base_uri": "https://localhost:8080/"
        },
        "id": "njfU7CpVERmB",
        "outputId": "170c48db-636a-43ee-e481-195386b6af28"
      },
      "source": [
        "print(y_test[:10])"
      ],
      "execution_count": 22,
      "outputs": [
        {
          "output_type": "stream",
          "text": [
            "['7' '2' '1' '0' '4' '1' '4' '9' '5' '9']\n"
          ],
          "name": "stdout"
        }
      ]
    },
    {
      "cell_type": "code",
      "metadata": {
        "colab": {
          "base_uri": "https://localhost:8080/",
          "height": 227
        },
        "id": "5xSEefZ-ETLx",
        "outputId": "10698981-1db1-40ea-ca51-02d34eb5bd82"
      },
      "source": [
        "fig = plt.figure()\n",
        "for i in range(10):\n",
        "    plottable_image = np.reshape(x_test[i], (28, 28))\n",
        "    ax = fig.add_subplot(2, 5, i+1)\n",
        "    ax.imshow(plottable_image, cmap='gray_r')"
      ],
      "execution_count": 23,
      "outputs": [
        {
          "output_type": "display_data",
          "data": {
            "image/png": "[encoded data removed]",
            "text/plain": [
              "<Figure size 432x288 with 10 Axes>"
            ]
          },
          "metadata": {
            "tags": [],
            "needs_background": "light"
          }
        }
      ]
    },
    {
      "cell_type": "markdown",
      "metadata": {
        "id": "_ge5O7edFauW"
      },
      "source": [
        "## Model #4 - Random Forest Classifier"
      ]
    },
    {
      "cell_type": "code",
      "metadata": {
        "id": "eTJa0WwaGL-G"
      },
      "source": [
        "from sklearn.ensemble import RandomForestClassifier"
      ],
      "execution_count": 24,
      "outputs": []
    },
    {
      "cell_type": "code",
      "metadata": {
        "id": "ahR3x3bHEYOa"
      },
      "source": [
        "randomForestModel = RandomForestClassifier()"
      ],
      "execution_count": 25,
      "outputs": []
    },
    {
      "cell_type": "code",
      "metadata": {
        "colab": {
          "base_uri": "https://localhost:8080/"
        },
        "id": "6rpoW0_lGXE5",
        "outputId": "4eaa5bd1-fbd7-4e25-c2e3-1c764fe670e2"
      },
      "source": [
        "randomForestModel.fit(x_train,y_train)"
      ],
      "execution_count": 26,
      "outputs": [
        {
          "output_type": "execute_result",
          "data": {
            "text/plain": [
              "RandomForestClassifier(bootstrap=True, ccp_alpha=0.0, class_weight=None,\n",
              "                       criterion='gini', max_depth=None, max_features='auto',\n",
              "                       max_leaf_nodes=None, max_samples=None,\n",
              "                       min_impurity_decrease=0.0, min_impurity_split=None,\n",
              "                       min_samples_leaf=1, min_samples_split=2,\n",
              "                       min_weight_fraction_leaf=0.0, n_estimators=100,\n",
              "                       n_jobs=None, oob_score=False, random_state=None,\n",
              "                       verbose=0, warm_start=False)"
            ]
          },
          "metadata": {
            "tags": []
          },
          "execution_count": 26
        }
      ]
    },
    {
      "cell_type": "code",
      "metadata": {
        "colab": {
          "base_uri": "https://localhost:8080/"
        },
        "id": "IgM0ctVpGwdC",
        "outputId": "298dbae5-3316-441b-d3fe-dbfeccc0bd9d"
      },
      "source": [
        "randomForestModel.score(x_test,y_test)"
      ],
      "execution_count": 27,
      "outputs": [
        {
          "output_type": "execute_result",
          "data": {
            "text/plain": [
              "0.9703"
            ]
          },
          "metadata": {
            "tags": []
          },
          "execution_count": 27
        }
      ]
    },
    {
      "cell_type": "code",
      "metadata": {
        "colab": {
          "base_uri": "https://localhost:8080/"
        },
        "id": "LHEmRXD9GcE7",
        "outputId": "a4c0431d-d3b1-4f54-9f1a-aef6cc33c85c"
      },
      "source": [
        "randomForestModel.predict(x_test[:10])"
      ],
      "execution_count": 28,
      "outputs": [
        {
          "output_type": "execute_result",
          "data": {
            "text/plain": [
              "array(['7', '2', '1', '0', '4', '1', '4', '9', '5', '9'], dtype=object)"
            ]
          },
          "metadata": {
            "tags": []
          },
          "execution_count": 28
        }
      ]
    },
    {
      "cell_type": "code",
      "metadata": {
        "colab": {
          "base_uri": "https://localhost:8080/"
        },
        "id": "T1Qh69IxG3kY",
        "outputId": "109bde30-3acf-40d4-8be5-1252c0c99a51"
      },
      "source": [
        "print(y_test[:10])"
      ],
      "execution_count": 29,
      "outputs": [
        {
          "output_type": "stream",
          "text": [
            "['7' '2' '1' '0' '4' '1' '4' '9' '5' '9']\n"
          ],
          "name": "stdout"
        }
      ]
    },
    {
      "cell_type": "markdown",
      "metadata": {
        "id": "IwiAfNusG8ae"
      },
      "source": [
        "## Model #5 - Feed Forward Neural Network "
      ]
    },
    {
      "cell_type": "code",
      "metadata": {
        "id": "xxGI4-_SG6RX"
      },
      "source": [
        "import os\n",
        "import keras\n",
        "from keras.models import Sequential, load_model\n",
        "from keras.layers import Dense, Activation, Dropout\n",
        "from keras.utils import np_utils\n",
        "from keras.datasets import mnist"
      ],
      "execution_count": 60,
      "outputs": []
    },
    {
      "cell_type": "code",
      "metadata": {
        "id": "BoyF8YzMIw3B"
      },
      "source": [
        "(X_train, y_train), (X_test, y_test) = mnist.load_data()"
      ],
      "execution_count": 44,
      "outputs": []
    },
    {
      "cell_type": "code",
      "metadata": {
        "colab": {
          "base_uri": "https://localhost:8080/",
          "height": 551
        },
        "id": "C3bT80fCIzM3",
        "outputId": "151467ba-0282-4d97-ba61-8d6106b34405"
      },
      "source": [
        "fig = plt.figure()\n",
        "for i in range(9):\n",
        "  plt.subplot(3,3,i+1)\n",
        "  plt.tight_layout()\n",
        "  plt.imshow(X_train[i], cmap='gray', interpolation='none')\n",
        "  plt.title(\"Digit: {}\".format(y_train[i]))\n",
        "  plt.xticks([])\n",
        "  plt.yticks([])\n",
        "fig"
      ],
      "execution_count": 46,
      "outputs": [
        {
          "output_type": "execute_result",
          "data": {
            "image/png": "[encoded data removed]",
            "text/plain": [
              "<Figure size 432x288 with 9 Axes>"
            ]
          },
          "metadata": {
            "tags": []
          },
          "execution_count": 46
        },
        {
          "output_type": "display_data",
          "data": {
            "image/png": "[encoded data removed]",
            "text/plain": [
              "<Figure size 432x288 with 9 Axes>"
            ]
          },
          "metadata": {
            "tags": []
          }
        }
      ]
    },
    {
      "cell_type": "code",
      "metadata": {
        "id": "kGaahYNpMkD4"
      },
      "source": [
        "X_train = X_train.reshape(60000, 784)\n",
        "X_test = X_test.reshape(10000, 784)\n",
        "X_train = X_train.astype('float32')\n",
        "X_test = X_test.astype('float32')\n",
        "\n",
        "# normalizing the data to help with the training\n",
        "X_train /= 255\n",
        "X_test /= 255"
      ],
      "execution_count": 47,
      "outputs": []
    },
    {
      "cell_type": "code",
      "metadata": {
        "id": "QE0-bwTeOtB8"
      },
      "source": [
        "n_classes = 10\n",
        "Y_train = np_utils.to_categorical(y_train, n_classes)\n",
        "Y_test = np_utils.to_categorical(y_test, n_classes)"
      ],
      "execution_count": 50,
      "outputs": []
    },
    {
      "cell_type": "code",
      "metadata": {
        "id": "5eKlJNMDI1-1"
      },
      "source": [
        "model = Sequential()\n",
        "model.add(Dense(512, input_shape=(784,)))\n",
        "model.add(Activation('relu'))                            \n",
        "model.add(Dropout(0.2))\n",
        "\n",
        "model.add(Dense(512))\n",
        "model.add(Activation('relu'))\n",
        "model.add(Dropout(0.2))\n",
        "\n",
        "model.add(Dense(10))\n",
        "model.add(Activation('softmax'))"
      ],
      "execution_count": 51,
      "outputs": []
    },
    {
      "cell_type": "code",
      "metadata": {
        "id": "TRdnRdnAMPfH"
      },
      "source": [
        "model.compile(loss='categorical_crossentropy', metrics=['accuracy'], optimizer='adam')"
      ],
      "execution_count": 53,
      "outputs": []
    },
    {
      "cell_type": "code",
      "metadata": {
        "colab": {
          "base_uri": "https://localhost:8080/",
          "height": 1000
        },
        "id": "mVeIxECkMU0G",
        "outputId": "f73b1a36-43fd-4a03-869b-3d25db10b52b"
      },
      "source": [
        "# training the model and saving metrics in history\n",
        "history = model.fit(X_train, Y_train,\n",
        "          batch_size=128, epochs=20,\n",
        "          verbose=2,\n",
        "          validation_data=(X_test, Y_test))\n",
        "\n",
        "# saving the model\n",
        "save_dir = \"/results/\"\n",
        "model_name = 'keras_mnist.h5'\n",
        "model_path = os.path.join(save_dir, model_name)\n",
        "model.save(model_path)\n",
        "print('Saved trained model at %s ' % model_path)\n",
        "\n",
        "# plotting the metrics\n",
        "fig = plt.figure()\n",
        "plt.subplot(2,1,1)\n",
        "plt.plot(history.history['accuracy'])\n",
        "plt.plot(history.history['val_accuracy'])\n",
        "plt.title('model accuracy')\n",
        "plt.ylabel('accuracy')\n",
        "plt.xlabel('epoch')\n",
        "plt.legend(['train', 'test'], loc='lower right')\n",
        "\n",
        "plt.subplot(2,1,2)\n",
        "plt.plot(history.history['loss'])\n",
        "plt.plot(history.history['val_loss'])\n",
        "plt.title('model loss')\n",
        "plt.ylabel('loss')\n",
        "plt.xlabel('epoch')\n",
        "plt.legend(['train', 'test'], loc='upper right')\n",
        "\n",
        "plt.tight_layout()\n",
        "\n",
        "fig"
      ],
      "execution_count": 57,
      "outputs": [
        {
          "output_type": "stream",
          "text": [
            "Epoch 1/20\n",
            "469/469 - 5s - loss: 0.0108 - accuracy: 0.9968 - val_loss: 0.1017 - val_accuracy: 0.9837\n",
            "Epoch 2/20\n",
            "469/469 - 5s - loss: 0.0113 - accuracy: 0.9967 - val_loss: 0.1160 - val_accuracy: 0.9826\n",
            "Epoch 3/20\n",
            "469/469 - 5s - loss: 0.0099 - accuracy: 0.9970 - val_loss: 0.0931 - val_accuracy: 0.9846\n",
            "Epoch 4/20\n",
            "469/469 - 5s - loss: 0.0121 - accuracy: 0.9965 - val_loss: 0.0894 - val_accuracy: 0.9846\n",
            "Epoch 5/20\n",
            "469/469 - 5s - loss: 0.0090 - accuracy: 0.9976 - val_loss: 0.1153 - val_accuracy: 0.9823\n",
            "Epoch 6/20\n",
            "469/469 - 5s - loss: 0.0107 - accuracy: 0.9969 - val_loss: 0.1025 - val_accuracy: 0.9852\n",
            "Epoch 7/20\n",
            "469/469 - 5s - loss: 0.0101 - accuracy: 0.9970 - val_loss: 0.0917 - val_accuracy: 0.9857\n",
            "Epoch 8/20\n",
            "469/469 - 5s - loss: 0.0072 - accuracy: 0.9977 - val_loss: 0.1052 - val_accuracy: 0.9829\n",
            "Epoch 9/20\n",
            "469/469 - 5s - loss: 0.0088 - accuracy: 0.9976 - val_loss: 0.1009 - val_accuracy: 0.9825\n",
            "Epoch 10/20\n",
            "469/469 - 5s - loss: 0.0096 - accuracy: 0.9970 - val_loss: 0.0939 - val_accuracy: 0.9840\n",
            "Epoch 11/20\n",
            "469/469 - 4s - loss: 0.0095 - accuracy: 0.9973 - val_loss: 0.0980 - val_accuracy: 0.9852\n",
            "Epoch 12/20\n",
            "469/469 - 5s - loss: 0.0064 - accuracy: 0.9977 - val_loss: 0.1034 - val_accuracy: 0.9837\n",
            "Epoch 13/20\n",
            "469/469 - 5s - loss: 0.0091 - accuracy: 0.9975 - val_loss: 0.1112 - val_accuracy: 0.9841\n",
            "Epoch 14/20\n",
            "469/469 - 5s - loss: 0.0089 - accuracy: 0.9975 - val_loss: 0.1214 - val_accuracy: 0.9839\n",
            "Epoch 15/20\n",
            "469/469 - 5s - loss: 0.0087 - accuracy: 0.9971 - val_loss: 0.1162 - val_accuracy: 0.9843\n",
            "Epoch 16/20\n",
            "469/469 - 4s - loss: 0.0093 - accuracy: 0.9974 - val_loss: 0.1262 - val_accuracy: 0.9835\n",
            "Epoch 17/20\n",
            "469/469 - 5s - loss: 0.0102 - accuracy: 0.9972 - val_loss: 0.1292 - val_accuracy: 0.9827\n",
            "Epoch 18/20\n",
            "469/469 - 5s - loss: 0.0101 - accuracy: 0.9971 - val_loss: 0.1196 - val_accuracy: 0.9844\n",
            "Epoch 19/20\n",
            "469/469 - 5s - loss: 0.0085 - accuracy: 0.9977 - val_loss: 0.1143 - val_accuracy: 0.9830\n",
            "Epoch 20/20\n",
            "469/469 - 5s - loss: 0.0078 - accuracy: 0.9979 - val_loss: 0.1166 - val_accuracy: 0.9835\n",
            "Saved trained model at /results/keras_mnist.h5 \n"
          ],
          "name": "stdout"
        },
        {
          "output_type": "execute_result",
          "data": {
            "image/png": "[encoded data removed]",
            "text/plain": [
              "<Figure size 432x288 with 2 Axes>"
            ]
          },
          "metadata": {
            "tags": []
          },
          "execution_count": 57
        },
        {
          "output_type": "display_data",
          "data": {
            "image/png": "[encoded data removed]",
            "text/plain": [
              "<Figure size 432x288 with 2 Axes>"
            ]
          },
          "metadata": {
            "tags": [],
            "needs_background": "light"
          }
        }
      ]
    },
    {
      "cell_type": "code",
      "metadata": {
        "colab": {
          "base_uri": "https://localhost:8080/"
        },
        "id": "MyWm9AlkMZd_",
        "outputId": "0b0d3b2d-f311-438c-97ee-466d6b4831b2"
      },
      "source": [
        "mnist_model = load_model('/results/keras_mnist.h5' )\n",
        "loss_and_metrics = mnist_model.evaluate(X_test, Y_test, verbose=2)\n",
        "\n",
        "print(\"Test Loss\", loss_and_metrics[0])\n",
        "print(\"Test Accuracy\", loss_and_metrics[1])"
      ],
      "execution_count": 61,
      "outputs": [
        {
          "output_type": "stream",
          "text": [
            "313/313 - 1s - loss: 0.1166 - accuracy: 0.9835\n",
            "Test Loss 0.11656983941793442\n",
            "Test Accuracy 0.9835000038146973\n"
          ],
          "name": "stdout"
        }
      ]
    },
    {
      "cell_type": "code",
      "metadata": {
        "id": "Ikd_ptq-Vs_r"
      },
      "source": [
        ""
      ],
      "execution_count": null,
      "outputs": []
    }
  ]
}