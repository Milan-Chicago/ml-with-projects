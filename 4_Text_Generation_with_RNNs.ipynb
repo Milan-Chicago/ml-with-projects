{
  "nbformat": 4,
  "nbformat_minor": 0,
  "metadata": {
    "colab": {
      "name": "4 - Text Generation with RNNs",
      "provenance": [],
      "authorship_tag": "ABX9TyMa8sNVZQBMDhZ2ELC71i18",
      "include_colab_link": true
    },
    "kernelspec": {
      "name": "python3",
      "display_name": "Python 3"
    }
  },
  "cells": [
    {
      "cell_type": "markdown",
      "metadata": {
        "id": "view-in-github",
        "colab_type": "text"
      },
      "source": [
        "<a href=\"https://colab.research.google.com/github/fillerInk/ml-with-projects/blob/main/4_Text_Generation_with_RNNs.ipynb\" target=\"_parent\"><img src=\"https://colab.research.google.com/assets/colab-badge.svg\" alt=\"Open In Colab\"/></a>"
      ]
    },
    {
      "cell_type": "code",
      "metadata": {
        "id": "03mKabeQI7n-"
      },
      "source": [
        "import numpy as np\n",
        "import matplotlib.pyplot as plt\n",
        "import pandas as pd\n",
        "\n",
        "import torch\n",
        "import torch.nn as nn\n",
        "import torch.nn.functional as F"
      ],
      "execution_count": null,
      "outputs": []
    },
    {
      "cell_type": "code",
      "metadata": {
        "id": "rvNb17FKJNZZ"
      },
      "source": [
        "text = [\n",
        "        'hey how are you',\n",
        "        'i am good',\n",
        "        'thank you',\n",
        "        'have a nice time',\n",
        "        'wish you all the best',\n",
        "        'good luck',\n",
        "        'how was your day',\n",
        "        'take care',\n",
        "        'i am doing fine',\n",
        "        'tell me about it',\n",
        "        'i dont know',\n",
        "        'great'\n",
        "      ]"
      ],
      "execution_count": null,
      "outputs": []
    },
    {
      "cell_type": "code",
      "metadata": {
        "id": "fU8iCjB9gNwY"
      },
      "source": [
        "chars = set(''.join(text))"
      ],
      "execution_count": null,
      "outputs": []
    },
    {
      "cell_type": "code",
      "metadata": {
        "id": "sNOxGL6PgWB1",
        "colab": {
          "base_uri": "https://localhost:8080/",
          "height": 399
        },
        "outputId": "41624b8a-de98-434a-a4d5-48b17d1427e1"
      },
      "source": [
        "chars"
      ],
      "execution_count": null,
      "outputs": [
        {
          "output_type": "execute_result",
          "data": {
            "text/plain": [
              "{' ',\n",
              " 'a',\n",
              " 'b',\n",
              " 'c',\n",
              " 'd',\n",
              " 'e',\n",
              " 'f',\n",
              " 'g',\n",
              " 'h',\n",
              " 'i',\n",
              " 'k',\n",
              " 'l',\n",
              " 'm',\n",
              " 'n',\n",
              " 'o',\n",
              " 'r',\n",
              " 's',\n",
              " 't',\n",
              " 'u',\n",
              " 'v',\n",
              " 'w',\n",
              " 'y'}"
            ]
          },
          "metadata": {
            "tags": []
          },
          "execution_count": 50
        }
      ]
    },
    {
      "cell_type": "code",
      "metadata": {
        "id": "-alvevVHgW5z"
      },
      "source": [
        "int2char = dict(enumerate(chars))"
      ],
      "execution_count": null,
      "outputs": []
    },
    {
      "cell_type": "code",
      "metadata": {
        "id": "YxQcyV42lKsC"
      },
      "source": [
        "char2int = {char: ind for ind, char in int2char.items()}"
      ],
      "execution_count": null,
      "outputs": []
    },
    {
      "cell_type": "code",
      "metadata": {
        "id": "2HsFopsAlZGT"
      },
      "source": [
        "maxlen = len(max(text, key=len))"
      ],
      "execution_count": null,
      "outputs": []
    },
    {
      "cell_type": "code",
      "metadata": {
        "id": "-hA5bCYRoFqq"
      },
      "source": [
        "for i in range(len(text)):\n",
        "  while len(text[i])<maxlen:\n",
        "    text[i]+=' '"
      ],
      "execution_count": null,
      "outputs": []
    },
    {
      "cell_type": "code",
      "metadata": {
        "id": "akAJywTvpLWS",
        "colab": {
          "base_uri": "https://localhost:8080/",
          "height": 225
        },
        "outputId": "d5b06946-27cb-476a-f896-d3653ac989df"
      },
      "source": [
        "text"
      ],
      "execution_count": null,
      "outputs": [
        {
          "output_type": "execute_result",
          "data": {
            "text/plain": [
              "['hey how are you      ',\n",
              " 'i am good            ',\n",
              " 'thank you            ',\n",
              " 'have a nice time     ',\n",
              " 'wish you all the best',\n",
              " 'good luck            ',\n",
              " 'how was your day     ',\n",
              " 'take care            ',\n",
              " 'i am doing fine      ',\n",
              " 'tell me about it     ',\n",
              " 'i dont know          ',\n",
              " 'great                ']"
            ]
          },
          "metadata": {
            "tags": []
          },
          "execution_count": 57
        }
      ]
    },
    {
      "cell_type": "code",
      "metadata": {
        "id": "qLq-jngwpQo1"
      },
      "source": [
        "input_seq = []\n",
        "target_seq = []\n",
        "\n",
        "for i in range(len(text)):\n",
        "\n",
        "  input_seq.append(text[i][:-1])\n",
        "  target_seq.append(text[i][1:])"
      ],
      "execution_count": null,
      "outputs": []
    },
    {
      "cell_type": "code",
      "metadata": {
        "id": "7kyZlpBbqF8Q",
        "colab": {
          "base_uri": "https://localhost:8080/",
          "height": 225
        },
        "outputId": "095e6569-35bd-48b6-ec05-f46fb61929b5"
      },
      "source": [
        "input_seq"
      ],
      "execution_count": null,
      "outputs": [
        {
          "output_type": "execute_result",
          "data": {
            "text/plain": [
              "['hey how are you     ',\n",
              " 'i am good           ',\n",
              " 'thank you           ',\n",
              " 'have a nice time    ',\n",
              " 'wish you all the bes',\n",
              " 'good luck           ',\n",
              " 'how was your day    ',\n",
              " 'take care           ',\n",
              " 'i am doing fine     ',\n",
              " 'tell me about it    ',\n",
              " 'i dont know         ',\n",
              " 'great               ']"
            ]
          },
          "metadata": {
            "tags": []
          },
          "execution_count": 59
        }
      ]
    },
    {
      "cell_type": "code",
      "metadata": {
        "id": "peIMcvxAqPmr",
        "colab": {
          "base_uri": "https://localhost:8080/",
          "height": 225
        },
        "outputId": "ac953d4a-8b27-4ddc-9868-b572152aae68"
      },
      "source": [
        "target_seq"
      ],
      "execution_count": null,
      "outputs": [
        {
          "output_type": "execute_result",
          "data": {
            "text/plain": [
              "['ey how are you      ',\n",
              " ' am good            ',\n",
              " 'hank you            ',\n",
              " 'ave a nice time     ',\n",
              " 'ish you all the best',\n",
              " 'ood luck            ',\n",
              " 'ow was your day     ',\n",
              " 'ake care            ',\n",
              " ' am doing fine      ',\n",
              " 'ell me about it     ',\n",
              " ' dont know          ',\n",
              " 'reat                ']"
            ]
          },
          "metadata": {
            "tags": []
          },
          "execution_count": 60
        }
      ]
    },
    {
      "cell_type": "code",
      "metadata": {
        "id": "lZL_uTdFqSUj"
      },
      "source": [
        "for i in range(len(text)):\n",
        "  input_seq[i] = [char2int[character] for character in input_seq[i]]\n",
        "  target_seq[i] = [char2int[character] for character in target_seq[i]]"
      ],
      "execution_count": null,
      "outputs": []
    },
    {
      "cell_type": "code",
      "metadata": {
        "id": "QvTi7ErZrfJR",
        "colab": {
          "base_uri": "https://localhost:8080/",
          "height": 1000
        },
        "outputId": "17d264cf-6ee5-4fd3-bdb9-213fe16d7831"
      },
      "source": [
        "input_seq"
      ],
      "execution_count": null,
      "outputs": [
        {
          "output_type": "execute_result",
          "data": {
            "text/plain": [
              "[[3, 8, 6, 10, 3, 19, 11, 10, 9, 1, 8, 10, 6, 19, 14, 10, 10, 10, 10, 10],\n",
              " [2,\n",
              "  10,\n",
              "  9,\n",
              "  15,\n",
              "  10,\n",
              "  13,\n",
              "  19,\n",
              "  19,\n",
              "  17,\n",
              "  10,\n",
              "  10,\n",
              "  10,\n",
              "  10,\n",
              "  10,\n",
              "  10,\n",
              "  10,\n",
              "  10,\n",
              "  10,\n",
              "  10,\n",
              "  10],\n",
              " [0, 3, 9, 12, 20, 10, 6, 19, 14, 10, 10, 10, 10, 10, 10, 10, 10, 10, 10, 10],\n",
              " [3, 9, 18, 8, 10, 9, 10, 12, 2, 7, 8, 10, 0, 2, 15, 8, 10, 10, 10, 10],\n",
              " [11, 2, 21, 3, 10, 6, 19, 14, 10, 9, 4, 4, 10, 0, 3, 8, 10, 5, 8, 21],\n",
              " [13,\n",
              "  19,\n",
              "  19,\n",
              "  17,\n",
              "  10,\n",
              "  4,\n",
              "  14,\n",
              "  7,\n",
              "  20,\n",
              "  10,\n",
              "  10,\n",
              "  10,\n",
              "  10,\n",
              "  10,\n",
              "  10,\n",
              "  10,\n",
              "  10,\n",
              "  10,\n",
              "  10,\n",
              "  10],\n",
              " [3, 19, 11, 10, 11, 9, 21, 10, 6, 19, 14, 1, 10, 17, 9, 6, 10, 10, 10, 10],\n",
              " [0, 9, 20, 8, 10, 7, 9, 1, 8, 10, 10, 10, 10, 10, 10, 10, 10, 10, 10, 10],\n",
              " [2, 10, 9, 15, 10, 17, 19, 2, 12, 13, 10, 16, 2, 12, 8, 10, 10, 10, 10, 10],\n",
              " [0, 8, 4, 4, 10, 15, 8, 10, 9, 5, 19, 14, 0, 10, 2, 0, 10, 10, 10, 10],\n",
              " [2,\n",
              "  10,\n",
              "  17,\n",
              "  19,\n",
              "  12,\n",
              "  0,\n",
              "  10,\n",
              "  20,\n",
              "  12,\n",
              "  19,\n",
              "  11,\n",
              "  10,\n",
              "  10,\n",
              "  10,\n",
              "  10,\n",
              "  10,\n",
              "  10,\n",
              "  10,\n",
              "  10,\n",
              "  10],\n",
              " [13, 1, 8, 9, 0, 10, 10, 10, 10, 10, 10, 10, 10, 10, 10, 10, 10, 10, 10, 10]]"
            ]
          },
          "metadata": {
            "tags": []
          },
          "execution_count": 62
        }
      ]
    },
    {
      "cell_type": "code",
      "metadata": {
        "id": "-o_7CW1VrgqL"
      },
      "source": [
        "dict_size = len(char2int)\n",
        "seq_len = maxlen-1\n",
        "batch_size = len(text)\n",
        "\n",
        "def one_hot_encode(sequence,dict_size,seq_len,batch_size):\n",
        "\n",
        "  features = np.zeros((batch_size,seq_len,dict_size),dtype=np.float32)\n",
        "\n",
        "  for i in range(batch_size):\n",
        "    for u in range(seq_len):\n",
        "      features[i,u,sequence[i][u]] = 1\n",
        "  return features    "
      ],
      "execution_count": null,
      "outputs": []
    },
    {
      "cell_type": "code",
      "metadata": {
        "id": "lFYO-W8luMa9",
        "colab": {
          "base_uri": "https://localhost:8080/",
          "height": 867
        },
        "outputId": "a85d3a4d-e217-448a-fe10-28078b78c363"
      },
      "source": [
        "input_seq = one_hot_encode(input_seq,dict_size,seq_len,batch_size)\n",
        "input_seq"
      ],
      "execution_count": null,
      "outputs": [
        {
          "output_type": "execute_result",
          "data": {
            "text/plain": [
              "array([[[0., 0., 0., ..., 0., 0., 0.],\n",
              "        [0., 0., 0., ..., 0., 0., 0.],\n",
              "        [0., 0., 0., ..., 0., 0., 0.],\n",
              "        ...,\n",
              "        [0., 0., 0., ..., 0., 0., 0.],\n",
              "        [0., 0., 0., ..., 0., 0., 0.],\n",
              "        [0., 0., 0., ..., 0., 0., 0.]],\n",
              "\n",
              "       [[0., 0., 1., ..., 0., 0., 0.],\n",
              "        [0., 0., 0., ..., 0., 0., 0.],\n",
              "        [0., 0., 0., ..., 0., 0., 0.],\n",
              "        ...,\n",
              "        [0., 0., 0., ..., 0., 0., 0.],\n",
              "        [0., 0., 0., ..., 0., 0., 0.],\n",
              "        [0., 0., 0., ..., 0., 0., 0.]],\n",
              "\n",
              "       [[1., 0., 0., ..., 0., 0., 0.],\n",
              "        [0., 0., 0., ..., 0., 0., 0.],\n",
              "        [0., 0., 0., ..., 0., 0., 0.],\n",
              "        ...,\n",
              "        [0., 0., 0., ..., 0., 0., 0.],\n",
              "        [0., 0., 0., ..., 0., 0., 0.],\n",
              "        [0., 0., 0., ..., 0., 0., 0.]],\n",
              "\n",
              "       ...,\n",
              "\n",
              "       [[1., 0., 0., ..., 0., 0., 0.],\n",
              "        [0., 0., 0., ..., 0., 0., 0.],\n",
              "        [0., 0., 0., ..., 0., 0., 0.],\n",
              "        ...,\n",
              "        [0., 0., 0., ..., 0., 0., 0.],\n",
              "        [0., 0., 0., ..., 0., 0., 0.],\n",
              "        [0., 0., 0., ..., 0., 0., 0.]],\n",
              "\n",
              "       [[0., 0., 1., ..., 0., 0., 0.],\n",
              "        [0., 0., 0., ..., 0., 0., 0.],\n",
              "        [0., 0., 0., ..., 0., 0., 0.],\n",
              "        ...,\n",
              "        [0., 0., 0., ..., 0., 0., 0.],\n",
              "        [0., 0., 0., ..., 0., 0., 0.],\n",
              "        [0., 0., 0., ..., 0., 0., 0.]],\n",
              "\n",
              "       [[0., 0., 0., ..., 0., 0., 0.],\n",
              "        [0., 1., 0., ..., 0., 0., 0.],\n",
              "        [0., 0., 0., ..., 0., 0., 0.],\n",
              "        ...,\n",
              "        [0., 0., 0., ..., 0., 0., 0.],\n",
              "        [0., 0., 0., ..., 0., 0., 0.],\n",
              "        [0., 0., 0., ..., 0., 0., 0.]]], dtype=float32)"
            ]
          },
          "metadata": {
            "tags": []
          },
          "execution_count": 64
        }
      ]
    },
    {
      "cell_type": "code",
      "metadata": {
        "id": "Lgch47EFuU-m"
      },
      "source": [
        "input_seq = torch.from_numpy(input_seq)\n",
        "target_seq = torch.Tensor(target_seq)"
      ],
      "execution_count": null,
      "outputs": []
    },
    {
      "cell_type": "code",
      "metadata": {
        "id": "-f7qYFiCurMJ",
        "colab": {
          "base_uri": "https://localhost:8080/",
          "height": 35
        },
        "outputId": "8423e444-56b2-474b-ae72-2b2e05bedd80"
      },
      "source": [
        "is_cuda = torch.cuda.is_available()\n",
        "\n",
        "if is_cuda:\n",
        "    device = torch.device(\"cuda\")\n",
        "    print(\"GPU is available\")\n",
        "else:\n",
        "    device = torch.device(\"cpu\")\n",
        "    print(\"GPU not available, CPU used\")"
      ],
      "execution_count": null,
      "outputs": [
        {
          "output_type": "stream",
          "text": [
            "GPU not available, CPU used\n"
          ],
          "name": "stdout"
        }
      ]
    },
    {
      "cell_type": "code",
      "metadata": {
        "id": "us_fdQT2uu3V"
      },
      "source": [
        "class Model(nn.Module):\n",
        "  def __init__(self, input_size,output_size,hidden_dim,n_layers):\n",
        "    super(Model, self).__init__()\n",
        "\n",
        "    self.hidden_dim = hidden_dim\n",
        "    self.n_layers = n_layers    \n",
        "    \n",
        "    self.fc = nn.Linear(hidden_dim,output_size)\n",
        "    self.rnn = nn.RNN(input_size,hidden_dim,n_layers,batch_first=True)\n",
        "\n",
        "  def forward(self,x):\n",
        "\n",
        "    batch_size = x.size(0)\n",
        "    hidden = self.init_hidden(batch_size)\n",
        "    out,hidden = self.rnn(x,hidden)\n",
        "\n",
        "    out = out.contiguous().view(-1,self.hidden_dim)\n",
        "    out = self.fc(out)\n",
        "\n",
        "    return out,hidden\n",
        "\n",
        "  def init_hidden(self,batch_size):\n",
        "    hidden = torch.zeros(self.n_layers,batch_size, self.hidden_dim)\n",
        "    return hidden\n"
      ],
      "execution_count": null,
      "outputs": []
    },
    {
      "cell_type": "code",
      "metadata": {
        "id": "nQeGIkXYJTWx",
        "colab": {
          "base_uri": "https://localhost:8080/",
          "height": 35
        },
        "outputId": "599e2697-50b3-48fb-e086-9aa34ec1b5d0"
      },
      "source": [
        "device"
      ],
      "execution_count": null,
      "outputs": [
        {
          "output_type": "execute_result",
          "data": {
            "text/plain": [
              "device(type='cpu')"
            ]
          },
          "metadata": {
            "tags": []
          },
          "execution_count": 68
        }
      ]
    },
    {
      "cell_type": "code",
      "metadata": {
        "id": "H52C3k9812Rd"
      },
      "source": [
        "epochs = 500\n",
        "lr = 0.01\n",
        "\n",
        "model = Model(input_size=dict_size,output_size=dict_size,hidden_dim=12,n_layers=1)\n"
      ],
      "execution_count": null,
      "outputs": []
    },
    {
      "cell_type": "code",
      "metadata": {
        "id": "1H6N_GaS424V"
      },
      "source": [
        "criterion = nn.CrossEntropyLoss()\n",
        "optimizer = torch.optim.Adam(model.parameters(),lr=lr)"
      ],
      "execution_count": null,
      "outputs": []
    },
    {
      "cell_type": "code",
      "metadata": {
        "id": "K_jObUan5Afs",
        "colab": {
          "base_uri": "https://localhost:8080/",
          "height": 884
        },
        "outputId": "52c7d9f2-9af9-4051-b2b8-8cf3b5779aee"
      },
      "source": [
        "for epoch in range(1, epochs + 1):\n",
        "  optimizer.zero_grad() # Clears existing gradients from previous epoch\n",
        "  input_seq.to(device)\n",
        "  output, hidden = model(input_seq)\n",
        "  loss = criterion(output, target_seq.view(-1).long())\n",
        "  loss.backward() # Does backpropagation and calculates gradients\n",
        "  optimizer.step() # Updates the weights accordingly\n",
        "\n",
        "  if epoch%10 == 0:\n",
        "    print('Epoch {}/{}...............'.format(epoch,epochs),end=' ')\n",
        "    print('Loss: {:.4f}'.format(loss.item()))"
      ],
      "execution_count": null,
      "outputs": [
        {
          "output_type": "stream",
          "text": [
            "Epoch 10/500............... Loss: 2.2165\n",
            "Epoch 20/500............... Loss: 2.0177\n",
            "Epoch 30/500............... Loss: 1.9482\n",
            "Epoch 40/500............... Loss: 1.8595\n",
            "Epoch 50/500............... Loss: 1.7255\n",
            "Epoch 60/500............... Loss: 1.5871\n",
            "Epoch 70/500............... Loss: 1.4421\n",
            "Epoch 80/500............... Loss: 1.3071\n",
            "Epoch 90/500............... Loss: 1.1862\n",
            "Epoch 100/500............... Loss: 1.0703\n",
            "Epoch 110/500............... Loss: 0.9577\n",
            "Epoch 120/500............... Loss: 0.8502\n",
            "Epoch 130/500............... Loss: 0.7500\n",
            "Epoch 140/500............... Loss: 0.6603\n",
            "Epoch 150/500............... Loss: 0.5779\n",
            "Epoch 160/500............... Loss: 0.5049\n",
            "Epoch 170/500............... Loss: 0.4406\n",
            "Epoch 180/500............... Loss: 0.3843\n",
            "Epoch 190/500............... Loss: 0.3359\n",
            "Epoch 200/500............... Loss: 0.3123\n",
            "Epoch 210/500............... Loss: 0.2716\n",
            "Epoch 220/500............... Loss: 0.2489\n",
            "Epoch 230/500............... Loss: 0.2198\n",
            "Epoch 240/500............... Loss: 0.2127\n",
            "Epoch 250/500............... Loss: 0.1895\n",
            "Epoch 260/500............... Loss: 0.2331\n",
            "Epoch 270/500............... Loss: 0.1947\n",
            "Epoch 280/500............... Loss: 0.1678\n",
            "Epoch 290/500............... Loss: 0.1517\n",
            "Epoch 300/500............... Loss: 0.1399\n",
            "Epoch 310/500............... Loss: 0.1311\n",
            "Epoch 320/500............... Loss: 0.1240\n",
            "Epoch 330/500............... Loss: 0.1181\n",
            "Epoch 340/500............... Loss: 0.1131\n",
            "Epoch 350/500............... Loss: 0.1087\n",
            "Epoch 360/500............... Loss: 0.1048\n",
            "Epoch 370/500............... Loss: 0.1013\n",
            "Epoch 380/500............... Loss: 0.0981\n",
            "Epoch 390/500............... Loss: 0.0953\n",
            "Epoch 400/500............... Loss: 0.0927\n",
            "Epoch 410/500............... Loss: 0.0903\n",
            "Epoch 420/500............... Loss: 0.0881\n",
            "Epoch 430/500............... Loss: 0.0860\n",
            "Epoch 440/500............... Loss: 0.0842\n",
            "Epoch 450/500............... Loss: 0.2190\n",
            "Epoch 460/500............... Loss: 0.3859\n",
            "Epoch 470/500............... Loss: 0.2487\n",
            "Epoch 480/500............... Loss: 0.1934\n",
            "Epoch 490/500............... Loss: 0.1490\n",
            "Epoch 500/500............... Loss: 0.1234\n"
          ],
          "name": "stdout"
        }
      ]
    },
    {
      "cell_type": "code",
      "metadata": {
        "id": "luNqb2tr7DwI"
      },
      "source": [
        "def predict(model, character):\n",
        "    # One-hot encoding our input to fit into the model\n",
        "    character = np.array([[char2int[c] for c in character]])\n",
        "    character = one_hot_encode(character, dict_size, character.shape[1], 1)\n",
        "    character = torch.from_numpy(character)\n",
        "    character.to(device)\n",
        "    \n",
        "    out, hidden = model(character)\n",
        "\n",
        "    prob = nn.functional.softmax(out[-1], dim=0).data\n",
        "    # Taking the class with the highest probability score from the output\n",
        "    char_ind = torch.max(prob, dim=0)[1].item()\n",
        "\n",
        "    return int2char[char_ind], hidden"
      ],
      "execution_count": null,
      "outputs": []
    },
    {
      "cell_type": "code",
      "metadata": {
        "id": "CLE91CG3NKvO"
      },
      "source": [
        "def sample(model, out_len, start='hey'):\n",
        "    model.eval() # eval mode\n",
        "    start = start.lower()\n",
        "    # First off, run through the starting characters\n",
        "    chars = [ch for ch in start]\n",
        "    size = out_len - len(chars)\n",
        "    # Now pass in the previous characters and get a new one\n",
        "    for ii in range(size):\n",
        "        char, h = predict(model, chars)\n",
        "        chars.append(char)\n",
        "\n",
        "    return ''.join(chars)"
      ],
      "execution_count": null,
      "outputs": []
    },
    {
      "cell_type": "code",
      "metadata": {
        "id": "rg93DOn7NM3O",
        "colab": {
          "base_uri": "https://localhost:8080/",
          "height": 35
        },
        "outputId": "6dd68901-186a-4e43-fabd-654912be381d"
      },
      "source": [
        "sample(model,15,'hey how')"
      ],
      "execution_count": null,
      "outputs": [
        {
          "output_type": "execute_result",
          "data": {
            "text/plain": [
              "'hey how are you'"
            ]
          },
          "metadata": {
            "tags": []
          },
          "execution_count": 100
        }
      ]
    },
    {
      "cell_type": "code",
      "metadata": {
        "id": "KmDF2E4LNPot"
      },
      "source": [
        ""
      ],
      "execution_count": null,
      "outputs": []
    }
  ]
}